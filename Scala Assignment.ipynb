{
 "cells": [
  {
   "cell_type": "code",
   "execution_count": 15,
   "id": "d173fcab-25da-46f7-90dd-66865b0f98ed",
   "metadata": {},
   "outputs": [
    {
     "data": {
      "text/plain": [
       "numbers: Array[Int] = Array(1, 2, 3, 4, 5, 6, 7, 8, 9, 10)\r\n"
      ]
     },
     "execution_count": 15,
     "metadata": {},
     "output_type": "execute_result"
    }
   ],
   "source": [
    "val numbers = Array(1, 2, 3, 4, 5, 6, 7, 8, 9, 10)\n"
   ]
  },
  {
   "cell_type": "code",
   "execution_count": 17,
   "id": "cdec42bd-3c2f-40ea-bdc9-4fa7e508daee",
   "metadata": {},
   "outputs": [
    {
     "name": "stdout",
     "output_type": "stream",
     "text": [
      "Sum of all elements: 55\n"
     ]
    },
    {
     "data": {
      "text/plain": [
       "sum: Int = 55\r\n"
      ]
     },
     "execution_count": 17,
     "metadata": {},
     "output_type": "execute_result"
    }
   ],
   "source": [
    "val sum = numbers.sum\n",
    "    println(\"Sum of all elements: \" + sum)"
   ]
  },
  {
   "cell_type": "code",
   "execution_count": 18,
   "id": "a88a4162-500b-4777-b738-5e7b22769d85",
   "metadata": {},
   "outputs": [
    {
     "name": "stdout",
     "output_type": "stream",
     "text": [
      "Average of all elements: 5.5\n"
     ]
    },
    {
     "data": {
      "text/plain": [
       "average: Double = 5.5\r\n"
      ]
     },
     "execution_count": 18,
     "metadata": {},
     "output_type": "execute_result"
    }
   ],
   "source": [
    "val average = sum / numbers.length.toDouble\n",
    "    println(\"Average of all elements: \" + average)"
   ]
  },
  {
   "cell_type": "code",
   "execution_count": 19,
   "id": "5e1c816c-359c-4d69-8615-410f2f616c7d",
   "metadata": {},
   "outputs": [
    {
     "data": {
      "text/plain": [
       "multipliedNumbers: Array[Int] = Array(2, 4, 6, 8, 10, 12, 14, 16, 18, 20)\r\n"
      ]
     },
     "execution_count": 19,
     "metadata": {},
     "output_type": "execute_result"
    }
   ],
   "source": [
    "val multipliedNumbers = numbers.map(_ * 2)"
   ]
  },
  {
   "cell_type": "code",
   "execution_count": 25,
   "id": "3c22dde0-a135-4e67-bb63-fbf5ce8c8e8b",
   "metadata": {},
   "outputs": [
    {
     "data": {
      "text/plain": [
       "reversedNumbers: Array[Int] = Array(10, 9, 8, 7, 6, 5, 4, 3, 2, 1)\r\n"
      ]
     },
     "execution_count": 25,
     "metadata": {},
     "output_type": "execute_result"
    }
   ],
   "source": [
    "val reversedNumbers = numbers.reverseIterator.toArray"
   ]
  },
  {
   "cell_type": "code",
   "execution_count": 26,
   "id": "e5704e77-dfc3-4bf7-80ff-844decf15009",
   "metadata": {},
   "outputs": [
    {
     "data": {
      "text/plain": [
       "maxElement: Int = 10\r\n",
       "minElement: Int = 1\r\n"
      ]
     },
     "execution_count": 26,
     "metadata": {},
     "output_type": "execute_result"
    }
   ],
   "source": [
    "val maxElement = numbers.reduce((a, b) => if (a > b) a else b)\n",
    "val minElement = numbers.reduce((a, b) => if (a < b) a else b)"
   ]
  },
  {
   "cell_type": "code",
   "execution_count": 29,
   "id": "c1f5571e-5781-468b-90a4-6451f7af7d6a",
   "metadata": {},
   "outputs": [
    {
     "data": {
      "text/plain": [
       "numbers: List[Int] = List(1, 2, 3, 4, 5, 6, 7, 8, 9, 10)\r\n"
      ]
     },
     "execution_count": 29,
     "metadata": {},
     "output_type": "execute_result"
    }
   ],
   "source": [
    "val numbers = List.range(1, 11)"
   ]
  },
  {
   "cell_type": "code",
   "execution_count": 31,
   "id": "2f630872-a76c-4f42-81a5-4e0fbfdb81f9",
   "metadata": {},
   "outputs": [
    {
     "data": {
      "text/plain": [
       "evenNumbers: List[Int] = List(2, 4, 6, 8, 10)\r\n"
      ]
     },
     "execution_count": 31,
     "metadata": {},
     "output_type": "execute_result"
    }
   ],
   "source": [
    "val evenNumbers = numbers.filter(_ % 2 == 0)"
   ]
  },
  {
   "cell_type": "code",
   "execution_count": 33,
   "id": "3f718ace-7974-4d6f-ac08-c35e7c69d979",
   "metadata": {},
   "outputs": [
    {
     "name": "stdout",
     "output_type": "stream",
     "text": [
      "30\n"
     ]
    },
    {
     "data": {
      "text/plain": [
       "sum: Int = 30\r\n"
      ]
     },
     "execution_count": 33,
     "metadata": {},
     "output_type": "execute_result"
    }
   ],
   "source": [
    "\n",
    "    val sum = evenNumbers.sum\n",
    "    println(sum)"
   ]
  },
  {
   "cell_type": "code",
   "execution_count": 36,
   "id": "b4625d65-537d-49bf-bf0a-d128e93b4bfd",
   "metadata": {},
   "outputs": [
    {
     "name": "stdout",
     "output_type": "stream",
     "text": [
      "Stack size after pushing: 3\n",
      "Top element (peek): 30\n",
      "Popped element: 30\n",
      "Stack size after popping: 2\n",
      "Top element (peek): 20\n"
     ]
    },
    {
     "data": {
      "text/plain": [
       "defined class Stack\r\n",
       "defined object StackExample\r\n"
      ]
     },
     "execution_count": 36,
     "metadata": {},
     "output_type": "execute_result"
    }
   ],
   "source": [
    "class Stack[A] {\n",
    "  private var elements: List[A] = Nil\n",
    "\n",
    "  // Push element onto the stack\n",
    "  def push(item: A): Unit = {\n",
    "    elements = item :: elements\n",
    "  }\n",
    "\n",
    "  // Pop element from the stack\n",
    "  def pop(): Option[A] = {\n",
    "    elements match {\n",
    "      case Nil => None\n",
    "      case head :: tail =>\n",
    "        elements = tail\n",
    "        Some(head)\n",
    "    }\n",
    "  }\n",
    "\n",
    "  // Peek the top element of the stack without removing it\n",
    "  def peek(): Option[A] = {\n",
    "    elements match {\n",
    "      case Nil => None\n",
    "      case head :: _ => Some(head)\n",
    "    }\n",
    "  }\n",
    "\n",
    "  // Check if the stack is empty\n",
    "  def isEmpty: Boolean = elements.isEmpty\n",
    "\n",
    "  // Size of the stack\n",
    "  def size: Int = elements.size\n",
    "}\n",
    "\n",
    "// Example usage\n",
    "object StackExample {\n",
    "  def main(args: Array[String]): Unit = {\n",
    "    val stack = new Stack[Int]\n",
    "\n",
    "    // Pushing elements onto the stack\n",
    "    stack.push(10)\n",
    "    stack.push(20)\n",
    "    stack.push(30)\n",
    "    println(\"Stack size after pushing: \" + stack.size)\n",
    "\n",
    "    // Peek the top element\n",
    "    println(\"Top element (peek): \" + stack.peek().getOrElse(\"Stack is empty\"))\n",
    "\n",
    "    // Pop elements from the stack\n",
    "    println(\"Popped element: \" + stack.pop().getOrElse(\"Stack is empty\"))\n",
    "    println(\"Stack size after popping: \" + stack.size)\n",
    "\n",
    "    // Peek again after popping\n",
    "    println(\"Top element (peek): \" + stack.peek().getOrElse(\"Stack is empty\"))\n",
    "  }\n",
    "}\n",
    "\n",
    "// Run the program\n",
    "StackExample.main(Array())"
   ]
  },
  {
   "cell_type": "code",
   "execution_count": 43,
   "id": "a7ad8f23-4378-4af0-9362-b80108317075",
   "metadata": {},
   "outputs": [
    {
     "data": {
      "text/plain": [
       "countryCapitalMap: Map[String,String] = Map(USA -> Washington, D.C., Japan -> Tokyo, Canada -> Ottawa, France -> Paris, Germany -> Berlin)\r\n"
      ]
     },
     "execution_count": 43,
     "metadata": {},
     "output_type": "execute_result"
    }
   ],
   "source": [
    "\n",
    "// creating map\n",
    "val countryCapitalMap: Map[String, String] = Map(\n",
    "  \"USA\" -> \"Washington, D.C.\",\n",
    "  \"France\" -> \"Paris\",\n",
    "  \"Germany\" -> \"Berlin\",\n",
    "  \"Japan\" -> \"Tokyo\",\n",
    "  \"Canada\" -> \"Ottawa\"\n",
    ")"
   ]
  },
  {
   "cell_type": "code",
   "execution_count": 44,
   "id": "77fa512b-fa83-4f11-a331-acec74031084",
   "metadata": {},
   "outputs": [
    {
     "data": {
      "text/plain": [
       "printCapital: (country: String)Unit\r\n"
      ]
     },
     "execution_count": 44,
     "metadata": {},
     "output_type": "execute_result"
    }
   ],
   "source": [
    "// Checking and Printing Capital\n",
    "def printCapital(country: String): Unit = {\n",
    "  countryCapitalMap.get(country) match {\n",
    "    case Some(capital) => println(s\"The capital of $country is $capital.\")\n",
    "    case None => println(s\"Country $country not found in the map.\")\n",
    "  }\n",
    "}"
   ]
  },
  {
   "cell_type": "code",
   "execution_count": 45,
   "id": "f16901ab-a508-4845-91f9-8b2e74ed8ff3",
   "metadata": {},
   "outputs": [
    {
     "name": "stdout",
     "output_type": "stream",
     "text": [
      "The capital of Germany is Berlin.\n",
      "Country Brazil not found in the map.\n"
     ]
    }
   ],
   "source": [
    "printCapital(\"Germany\")  // Output: The capital of Germany is Berlin.\n",
    "printCapital(\"Brazil\")   // Output: Country Brazil not found in the map."
   ]
  },
  {
   "cell_type": "code",
   "execution_count": 50,
   "id": "69740da7-c1ff-4b57-bb51-f7f50cc8822d",
   "metadata": {},
   "outputs": [
    {
     "name": "stdout",
     "output_type": "stream",
     "text": [
      "Circle Area: 78.53981633974483\n",
      "Circle Perimeter: 31.41592653589793\n",
      "Rectangle Area: 24.0\n",
      "Rectangle Perimeter: 20.0\n"
     ]
    },
    {
     "data": {
      "text/plain": [
       "defined trait Shape\r\n",
       "defined class Circle\r\n",
       "defined class Rectangle\r\n",
       "circle: Circle = Circle(5.0)\r\n",
       "rectangle: Rectangle = Rectangle(4.0,6.0)\r\n"
      ]
     },
     "execution_count": 50,
     "metadata": {},
     "output_type": "execute_result"
    }
   ],
   "source": [
    "// Define the Shape trait\n",
    "trait Shape {\n",
    "  def area(): Double\n",
    "  def perimeter(): Double\n",
    " }\n",
    "\n",
    "// Create the Circle class that implements the Shape trait\n",
    "case class Circle(radius: Double) extends Shape {\n",
    "  override def area(): Double = math.Pi * radius * radius\n",
    "  override def perimeter(): Double = 2 * math.Pi * radius\n",
    "}\n",
    "\n",
    "// Create the Rectangle class that implements the Shape trait\n",
    "case class Rectangle(width: Double, height: Double) extends Shape {\n",
    "  override def area(): Double = width * height\n",
    "  override def perimeter(): Double = 2 * (width + height)\n",
    "}\n",
    "\n",
    "// Example usage:\n",
    "val circle = Circle(5.0)\n",
    "val rectangle = Rectangle(4.0, 6.0)\n",
    "\n",
    "println(\"Circle Area: \" + circle.area())\n",
    "println(\"Circle Perimeter: \" + circle.perimeter())\n",
    "println(\"Rectangle Area: \" + rectangle.area())\n",
    "println(\"Rectangle Perimeter: \" + rectangle.perimeter())"
   ]
  },
  {
   "cell_type": "code",
   "execution_count": 60,
   "id": "00451672-598a-4d3f-a2f8-2c5d35e44ff7",
   "metadata": {},
   "outputs": [
    {
     "data": {
      "text/plain": [
       "defined class Animal\r\n"
      ]
     },
     "execution_count": 60,
     "metadata": {},
     "output_type": "execute_result"
    }
   ],
   "source": [
    "// Define the Animal class\n",
    "class Animal {\n",
    "  def speak(): Unit = println(\"The animal makes a sound.\")\n",
    "  def move(): Unit = println(\"The animal moves.\")\n",
    "}"
   ]
  },
  {
   "cell_type": "code",
   "execution_count": 61,
   "id": "f7cc82ef-c730-4995-a7be-68383d2477af",
   "metadata": {},
   "outputs": [
    {
     "data": {
      "text/plain": [
       "defined class Animal\r\n",
       "defined class Dog\r\n",
       "defined class Bird\r\n"
      ]
     },
     "execution_count": 61,
     "metadata": {},
     "output_type": "execute_result"
    }
   ],
   "source": [
    "// Define the Animal class\n",
    "class Animal {\n",
    "  def speak(): Unit = println(\"The animal makes a sound.\")\n",
    "  def move(): Unit = println(\"The animal moves.\")\n",
    "}\n",
    "\n",
    "// Define the Dog class\n",
    "class Dog extends Animal {\n",
    "  override def speak(): Unit = println(\"The dog barks.\")\n",
    "  override def move(): Unit = println(\"The dog runs.\")\n",
    "}\n",
    "\n",
    "// Define the Bird class\n",
    "class Bird extends Animal {\n",
    "  override def speak(): Unit = println(\"The bird chirps.\")\n",
    "  override def move(): Unit = println(\"The bird flies.\")\n",
    "}"
   ]
  },
  {
   "cell_type": "code",
   "execution_count": 62,
   "id": "12edb69a-b16b-461f-8992-7230307a6875",
   "metadata": {},
   "outputs": [
    {
     "name": "stdout",
     "output_type": "stream",
     "text": [
      "The dog barks.\n",
      "The dog runs.\n",
      "The bird chirps.\n",
      "The bird flies.\n"
     ]
    },
    {
     "data": {
      "text/plain": [
       "dog: Dog = Dog@4958ff88\r\n",
       "bird: Bird = Bird@339b58f8\r\n"
      ]
     },
     "execution_count": 62,
     "metadata": {},
     "output_type": "execute_result"
    }
   ],
   "source": [
    "val dog = new Dog\n",
    "dog.speak()\n",
    "dog.move()\n",
    "\n",
    "val bird = new Bird\n",
    "bird.speak()\n",
    "bird.move()"
   ]
  },
  {
   "cell_type": "code",
   "execution_count": 63,
   "id": "ff5fcc35-25b6-4386-b9af-bee0d981d2af",
   "metadata": {},
   "outputs": [
    {
     "name": "stdout",
     "output_type": "stream",
     "text": [
      "The dog barks.\n",
      "The dog runs.\n",
      "The bird chirps.\n",
      "The bird flies.\n"
     ]
    },
    {
     "data": {
      "text/plain": [
       "dogInstance: Dog = Dog@53793525\r\n",
       "birdInstance: Bird = Bird@a7f4a38\r\n"
      ]
     },
     "execution_count": 63,
     "metadata": {},
     "output_type": "execute_result"
    }
   ],
   "source": [
    "// Create instances of Dog and Bird\n",
    "val dogInstance = new Dog()\n",
    "val birdInstance = new Bird()\n",
    "\n",
    "// Call their speak() and move() methods\n",
    "dogInstance.speak()\n",
    "dogInstance.move()\n",
    "\n",
    "birdInstance.speak()\n",
    "birdInstance.move()"
   ]
  },
  {
   "cell_type": "code",
   "execution_count": 66,
   "id": "1f5dac46-2d5d-4bed-9d5c-8d8c116502c2",
   "metadata": {},
   "outputs": [
    {
     "data": {
      "text/plain": [
       "defined class BankAccount\r\n"
      ]
     },
     "execution_count": 66,
     "metadata": {},
     "output_type": "execute_result"
    }
   ],
   "source": [
    "class BankAccount {\n",
    "  private var accountNumber: Long = _\n",
    "  private var balance: Double = _\n",
    "\n",
    "  def setAccountNumber(number: Long): Unit = {\n",
    "    accountNumber = number\n",
    "  }\n",
    "\n",
    "  def getAccountNumber(): Long = {\n",
    "    accountNumber\n",
    "  }\n",
    "\n",
    "  def setBalance(amount: Double): Unit = {\n",
    "    if (amount >= 0) {\n",
    "      balance = amount\n",
    "    } else {\n",
    "      println(\"Invalid balance. Must be non-negative.\")\n",
    "    }\n",
    "  }\n",
    "\n",
    "  def getBalance(): Double = {\n",
    "    balance\n",
    "  }\n",
    "\n",
    "  def deposit(amount: Double): Unit = {\n",
    "    if (amount > 0) {\n",
    "      balance += amount\n",
    "      println(s\"Deposited $amount. New balance: $balance\")\n",
    "    } else {\n",
    "      println(\"Invalid deposit amount. Must be positive.\")\n",
    "    }\n",
    "  }\n",
    "\n",
    "  def withdraw(amount: Double): Unit = {\n",
    "    if (amount > 0 && amount <= balance) {\n",
    "      balance -= amount\n",
    "      println(s\"Withdrew $amount. New balance: $balance\")\n",
    "    } else if (amount > balance) {\n",
    "      println(\"Insufficient funds.\")\n",
    "    } else {\n",
    "      println(\"Invalid withdrawal amount. Must be positive.\")\n",
    "    }\n",
    "  }\n",
    "\n",
    "  def displayBalance(): Unit = {\n",
    "    println(s\"Your current balance is: $balance\")\n",
    "  }\n",
    "}"
   ]
  },
  {
   "cell_type": "code",
   "execution_count": 67,
   "id": "aba65586-b322-42ca-9eaa-dd333e010274",
   "metadata": {},
   "outputs": [
    {
     "name": "stdout",
     "output_type": "stream",
     "text": [
      "Deposited 500.0. New balance: 100500.0\n",
      "Withdrew 2000.0. New balance: 98500.0\n",
      "Your current balance is: 98500.0\n"
     ]
    },
    {
     "data": {
      "text/plain": [
       "account: BankAccount = BankAccount@1168e0a4\r\n"
      ]
     },
     "execution_count": 67,
     "metadata": {},
     "output_type": "execute_result"
    }
   ],
   "source": [
    "val account = new BankAccount()\n",
    "account.setAccountNumber(1234567890)\n",
    "account.setBalance(100000.0)\n",
    "account.deposit(500.0)\n",
    "account.withdraw(2000.0)\n",
    "account.displayBalance()"
   ]
  },
  {
   "cell_type": "code",
   "execution_count": null,
   "id": "dd1ada17-606a-427e-81ea-93b310c789c3",
   "metadata": {},
   "outputs": [],
   "source": []
  }
 ],
 "metadata": {
  "kernelspec": {
   "display_name": "spylon-kernel",
   "language": "scala",
   "name": "spylon-kernel"
  },
  "language_info": {
   "codemirror_mode": "text/x-scala",
   "file_extension": ".scala",
   "help_links": [
    {
     "text": "MetaKernel Magics",
     "url": "https://metakernel.readthedocs.io/en/latest/source/README.html"
    }
   ],
   "mimetype": "text/x-scala",
   "name": "scala",
   "pygments_lexer": "scala",
   "version": "0.4.1"
  }
 },
 "nbformat": 4,
 "nbformat_minor": 5
}
